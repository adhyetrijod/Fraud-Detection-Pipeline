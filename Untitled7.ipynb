{
  "nbformat": 4,
  "nbformat_minor": 0,
  "metadata": {
    "colab": {
      "provenance": [],
      "authorship_tag": "ABX9TyMwWsAdIgTFlBUa9IJy5wz/",
      "include_colab_link": true
    },
    "kernelspec": {
      "name": "python3",
      "display_name": "Python 3"
    },
    "language_info": {
      "name": "python"
    }
  },
  "cells": [
    {
      "cell_type": "markdown",
      "metadata": {
        "id": "view-in-github",
        "colab_type": "text"
      },
      "source": [
        "<a href=\"https://colab.research.google.com/github/adhyetrijod/Fraud-Detection-Pipeline/blob/main/Untitled7.ipynb\" target=\"_parent\"><img src=\"https://colab.research.google.com/assets/colab-badge.svg\" alt=\"Open In Colab\"/></a>"
      ]
    },
    {
      "cell_type": "code",
      "execution_count": 1,
      "metadata": {
        "colab": {
          "base_uri": "https://localhost:8080/",
          "height": 74
        },
        "id": "lh0Zp-iStYEg",
        "outputId": "7eb7389e-f099-4df2-aa5c-5fef71007877"
      },
      "outputs": [
        {
          "output_type": "display_data",
          "data": {
            "text/plain": [
              "<IPython.core.display.HTML object>"
            ],
            "text/html": [
              "\n",
              "     <input type=\"file\" id=\"files-99e3e29b-faf4-49a8-8534-0cb58ce78355\" name=\"files[]\" multiple disabled\n",
              "        style=\"border:none\" />\n",
              "     <output id=\"result-99e3e29b-faf4-49a8-8534-0cb58ce78355\">\n",
              "      Upload widget is only available when the cell has been executed in the\n",
              "      current browser session. Please rerun this cell to enable.\n",
              "      </output>\n",
              "      <script>// Copyright 2017 Google LLC\n",
              "//\n",
              "// Licensed under the Apache License, Version 2.0 (the \"License\");\n",
              "// you may not use this file except in compliance with the License.\n",
              "// You may obtain a copy of the License at\n",
              "//\n",
              "//      http://www.apache.org/licenses/LICENSE-2.0\n",
              "//\n",
              "// Unless required by applicable law or agreed to in writing, software\n",
              "// distributed under the License is distributed on an \"AS IS\" BASIS,\n",
              "// WITHOUT WARRANTIES OR CONDITIONS OF ANY KIND, either express or implied.\n",
              "// See the License for the specific language governing permissions and\n",
              "// limitations under the License.\n",
              "\n",
              "/**\n",
              " * @fileoverview Helpers for google.colab Python module.\n",
              " */\n",
              "(function(scope) {\n",
              "function span(text, styleAttributes = {}) {\n",
              "  const element = document.createElement('span');\n",
              "  element.textContent = text;\n",
              "  for (const key of Object.keys(styleAttributes)) {\n",
              "    element.style[key] = styleAttributes[key];\n",
              "  }\n",
              "  return element;\n",
              "}\n",
              "\n",
              "// Max number of bytes which will be uploaded at a time.\n",
              "const MAX_PAYLOAD_SIZE = 100 * 1024;\n",
              "\n",
              "function _uploadFiles(inputId, outputId) {\n",
              "  const steps = uploadFilesStep(inputId, outputId);\n",
              "  const outputElement = document.getElementById(outputId);\n",
              "  // Cache steps on the outputElement to make it available for the next call\n",
              "  // to uploadFilesContinue from Python.\n",
              "  outputElement.steps = steps;\n",
              "\n",
              "  return _uploadFilesContinue(outputId);\n",
              "}\n",
              "\n",
              "// This is roughly an async generator (not supported in the browser yet),\n",
              "// where there are multiple asynchronous steps and the Python side is going\n",
              "// to poll for completion of each step.\n",
              "// This uses a Promise to block the python side on completion of each step,\n",
              "// then passes the result of the previous step as the input to the next step.\n",
              "function _uploadFilesContinue(outputId) {\n",
              "  const outputElement = document.getElementById(outputId);\n",
              "  const steps = outputElement.steps;\n",
              "\n",
              "  const next = steps.next(outputElement.lastPromiseValue);\n",
              "  return Promise.resolve(next.value.promise).then((value) => {\n",
              "    // Cache the last promise value to make it available to the next\n",
              "    // step of the generator.\n",
              "    outputElement.lastPromiseValue = value;\n",
              "    return next.value.response;\n",
              "  });\n",
              "}\n",
              "\n",
              "/**\n",
              " * Generator function which is called between each async step of the upload\n",
              " * process.\n",
              " * @param {string} inputId Element ID of the input file picker element.\n",
              " * @param {string} outputId Element ID of the output display.\n",
              " * @return {!Iterable<!Object>} Iterable of next steps.\n",
              " */\n",
              "function* uploadFilesStep(inputId, outputId) {\n",
              "  const inputElement = document.getElementById(inputId);\n",
              "  inputElement.disabled = false;\n",
              "\n",
              "  const outputElement = document.getElementById(outputId);\n",
              "  outputElement.innerHTML = '';\n",
              "\n",
              "  const pickedPromise = new Promise((resolve) => {\n",
              "    inputElement.addEventListener('change', (e) => {\n",
              "      resolve(e.target.files);\n",
              "    });\n",
              "  });\n",
              "\n",
              "  const cancel = document.createElement('button');\n",
              "  inputElement.parentElement.appendChild(cancel);\n",
              "  cancel.textContent = 'Cancel upload';\n",
              "  const cancelPromise = new Promise((resolve) => {\n",
              "    cancel.onclick = () => {\n",
              "      resolve(null);\n",
              "    };\n",
              "  });\n",
              "\n",
              "  // Wait for the user to pick the files.\n",
              "  const files = yield {\n",
              "    promise: Promise.race([pickedPromise, cancelPromise]),\n",
              "    response: {\n",
              "      action: 'starting',\n",
              "    }\n",
              "  };\n",
              "\n",
              "  cancel.remove();\n",
              "\n",
              "  // Disable the input element since further picks are not allowed.\n",
              "  inputElement.disabled = true;\n",
              "\n",
              "  if (!files) {\n",
              "    return {\n",
              "      response: {\n",
              "        action: 'complete',\n",
              "      }\n",
              "    };\n",
              "  }\n",
              "\n",
              "  for (const file of files) {\n",
              "    const li = document.createElement('li');\n",
              "    li.append(span(file.name, {fontWeight: 'bold'}));\n",
              "    li.append(span(\n",
              "        `(${file.type || 'n/a'}) - ${file.size} bytes, ` +\n",
              "        `last modified: ${\n",
              "            file.lastModifiedDate ? file.lastModifiedDate.toLocaleDateString() :\n",
              "                                    'n/a'} - `));\n",
              "    const percent = span('0% done');\n",
              "    li.appendChild(percent);\n",
              "\n",
              "    outputElement.appendChild(li);\n",
              "\n",
              "    const fileDataPromise = new Promise((resolve) => {\n",
              "      const reader = new FileReader();\n",
              "      reader.onload = (e) => {\n",
              "        resolve(e.target.result);\n",
              "      };\n",
              "      reader.readAsArrayBuffer(file);\n",
              "    });\n",
              "    // Wait for the data to be ready.\n",
              "    let fileData = yield {\n",
              "      promise: fileDataPromise,\n",
              "      response: {\n",
              "        action: 'continue',\n",
              "      }\n",
              "    };\n",
              "\n",
              "    // Use a chunked sending to avoid message size limits. See b/62115660.\n",
              "    let position = 0;\n",
              "    do {\n",
              "      const length = Math.min(fileData.byteLength - position, MAX_PAYLOAD_SIZE);\n",
              "      const chunk = new Uint8Array(fileData, position, length);\n",
              "      position += length;\n",
              "\n",
              "      const base64 = btoa(String.fromCharCode.apply(null, chunk));\n",
              "      yield {\n",
              "        response: {\n",
              "          action: 'append',\n",
              "          file: file.name,\n",
              "          data: base64,\n",
              "        },\n",
              "      };\n",
              "\n",
              "      let percentDone = fileData.byteLength === 0 ?\n",
              "          100 :\n",
              "          Math.round((position / fileData.byteLength) * 100);\n",
              "      percent.textContent = `${percentDone}% done`;\n",
              "\n",
              "    } while (position < fileData.byteLength);\n",
              "  }\n",
              "\n",
              "  // All done.\n",
              "  yield {\n",
              "    response: {\n",
              "      action: 'complete',\n",
              "    }\n",
              "  };\n",
              "}\n",
              "\n",
              "scope.google = scope.google || {};\n",
              "scope.google.colab = scope.google.colab || {};\n",
              "scope.google.colab._files = {\n",
              "  _uploadFiles,\n",
              "  _uploadFilesContinue,\n",
              "};\n",
              "})(self);\n",
              "</script> "
            ]
          },
          "metadata": {}
        },
        {
          "output_type": "stream",
          "name": "stdout",
          "text": [
            "Saving 2307.06435v10.pdf to 2307.06435v10.pdf\n"
          ]
        }
      ],
      "source": [
        "from google.colab import files\n",
        "\n",
        "uploaded = files.upload()\n"
      ]
    },
    {
      "cell_type": "code",
      "source": [
        "pdf_path = \"2307.06435v10.pdf\"\n"
      ],
      "metadata": {
        "id": "7im-KRF-uY_K"
      },
      "execution_count": 4,
      "outputs": []
    },
    {
      "cell_type": "code",
      "source": [
        "# 🧠 Step 0: Install all the required libraries\n",
        "!pip install -q sentence-transformers groq scikit-learn PyMuPDF\n",
        "\n",
        "# 🧠 Step 1: Imports\n",
        "from sentence_transformers import SentenceTransformer\n",
        "from sklearn.metrics.pairwise import cosine_similarity\n",
        "from groq import Groq\n",
        "import numpy as np\n",
        "import fitz  # PyMuPDF\n",
        "import re\n",
        "\n",
        "# 🔐 Step 2: Load the model and your Groq API key\n",
        "model = SentenceTransformer('BAAI/bge-base-en-v1.5')\n",
        "client = Groq(api_key=\"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\")  # Replace with your real key\n",
        "\n",
        "# 📄 Step 3: Load and process the PDF you just uploaded\n",
        "pdf_path = \"2307.06435v10.pdf\"  # This is the name from your uploaded file\n",
        "doc = fitz.open(pdf_path)\n",
        "\n",
        "text_chunks = []\n",
        "for page in doc:\n",
        "    raw_text = page.get_text()\n",
        "    chunks = re.split(r'(?<=[.?!])\\s+', raw_text.strip())\n",
        "    text_chunks.extend([chunk for chunk in chunks if len(chunk) > 30])\n",
        "\n",
        "# 🧠 Step 4: Embed the PDF chunks\n",
        "doc_embeddings = model.encode(text_chunks, convert_to_numpy=True)\n",
        "\n",
        "# 💬 Step 5: Ask your question\n",
        "query = \"What is this document mainly about?\"  # You can change this!\n",
        "query_embedding = model.encode([query], convert_to_numpy=True)\n",
        "\n",
        "# 🔍 Step 6: Find the most relevant chunk\n",
        "similarities = cosine_similarity(query_embedding, doc_embeddings)[0]\n",
        "top_index = np.argmax(similarities)\n",
        "retrieved_text = text_chunks[top_index]\n",
        "\n",
        "# 🤖 Step 7: Generate the answer using Groq's LLM\n",
        "response = client.chat.completions.create(\n",
        "    model=\"llama3-8b-8192\",\n",
        "    messages=[\n",
        "        {\"role\": \"system\", \"content\": \"You're a helpful assistant.\"},\n",
        "        {\"role\": \"user\", \"content\": f\"Using this information: '{retrieved_text}', answer the question: {query}\"}\n",
        "    ]\n",
        ")\n",
        "\n",
        "# 📢 Step 8: Output the answer\n",
        "print(\"📄 Answer from PDF:\", response.choices[0].message.content)\n"
      ],
      "metadata": {
        "colab": {
          "base_uri": "https://localhost:8080/"
        },
        "id": "8838-YCfucES",
        "outputId": "f7c9a07f-f2a2-4a64-a21a-f325f366b4f9"
      },
      "execution_count": 5,
      "outputs": [
        {
          "output_type": "stream",
          "name": "stdout",
          "text": [
            "📄 Answer from PDF: Based on the sentence \"The organization of this paper is as follows.\", it appears that this document is likely a research paper or an academic thesis, and the sentence is setting up the structure or outline of the paper. Therefore, the document is mainly about presenting research findings, discussing a topic, or exploring an idea in an academic or scholarly context.\n"
          ]
        }
      ]
    },
    {
      "cell_type": "code",
      "source": [
        "# ✨ STEP 1: Install all required packages\n",
        "!pip install -q sentence-transformers groq scikit-learn PyMuPDF\n",
        "\n",
        "# ✨ STEP 2: Import libraries\n",
        "from sentence_transformers import SentenceTransformer\n",
        "from sklearn.metrics.pairwise import cosine_similarity\n",
        "from groq import Groq\n",
        "import numpy as np\n",
        "import fitz  # PyMuPDF\n",
        "import re\n",
        "\n",
        "# ✨ STEP 3: Set up model and API\n",
        "model = SentenceTransformer('BAAI/bge-base-en-v1.5')\n",
        "client = Groq(api_key=\"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\")  # Replace with your Groq key\n",
        "\n",
        "# ✨ STEP 4: Load and chunk your PDF\n",
        "pdf_path = \"2307.06435v10.pdf\"  # Replace with actual filename from uploaded list\n",
        "\n",
        "doc = fitz.open(pdf_path)\n",
        "text_chunks = []\n",
        "for page in doc:\n",
        "    text = page.get_text()\n",
        "    chunks = re.split(r'(?<=[.?!])\\s+', text.strip())\n",
        "    text_chunks.extend([c for c in chunks if len(c) > 30])\n",
        "\n",
        "# ✨ STEP 5: Embed chunks and your query\n",
        "doc_embeddings = model.encode(text_chunks, convert_to_numpy=True)\n",
        "query = \"What are the key arguments or conclusions in this document?\"\n",
        "query_embedding = model.encode([query], convert_to_numpy=True)\n",
        "\n",
        "# ✨ STEP 6: Retrieve top 3 most relevant chunks\n",
        "similarities = cosine_similarity(query_embedding, doc_embeddings)[0]\n",
        "top_indices = similarities.argsort()[-3:][::-1]  # Top 3, descending\n",
        "retrieved_context = \"\\n\\n\".join([text_chunks[i] for i in top_indices])\n",
        "\n",
        "# ✨ STEP 7: Generate answer using Groq\n",
        "response = client.chat.completions.create(\n",
        "    model=\"llama3-8b-8192\",\n",
        "    messages=[\n",
        "        {\"role\": \"system\", \"content\": \"You're a helpful assistant.\"},\n",
        "        {\"role\": \"user\", \"content\": f\"Using the following info: '''{retrieved_context}''', answer the question: {query}\"}\n",
        "    ]\n",
        ")\n",
        "\n",
        "# ✨ STEP 8: Output the result\n",
        "print(\"🧠 Final Answer:\", response.choices[0].message.content)\n"
      ],
      "metadata": {
        "colab": {
          "base_uri": "https://localhost:8080/"
        },
        "id": "B4ColxmfxEzQ",
        "outputId": "d599907e-b0a0-4046-d4b4-fffba8ed8100"
      },
      "execution_count": 6,
      "outputs": [
        {
          "output_type": "stream",
          "name": "stdout",
          "text": [
            "🧠 Final Answer: Unfortunately, the provided text does not contain key arguments or conclusions. It only gives an overview of the organization of the paper and provides a reference to a specific paper for more detailed information. Therefore, it is not possible to determine the key arguments or conclusions in this document.\n"
          ]
        }
      ]
    },
    {
      "cell_type": "code",
      "source": [
        "# 🧊 STEP 0: Install dependencies\n",
        "!pip install -q sentence-transformers groq scikit-learn PyMuPDF gradio\n",
        "\n",
        "# 💡 STEP 1: Imports\n",
        "from sentence_transformers import SentenceTransformer\n",
        "from sklearn.metrics.pairwise import cosine_similarity\n",
        "from groq import Groq\n",
        "import numpy as np\n",
        "import fitz  # PyMuPDF\n",
        "import re\n",
        "import gradio as gr\n",
        "\n",
        "# 📦 STEP 2: Load embedding model and Groq client\n",
        "model = SentenceTransformer('BAAI/bge-base-en-v1.5')\n",
        "client = Groq(api_key=\"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\")  # Replace this with your real key\n",
        "\n",
        "# 📄 STEP 3: Load and chunk your PDF\n",
        "pdf_path = \"2307.06435v10.pdf\"  # Replace with actual uploaded filename\n",
        "doc = fitz.open(pdf_path)\n",
        "\n",
        "text_chunks = []\n",
        "for page in doc:\n",
        "    text = page.get_text()\n",
        "    chunks = re.split(r'(?<=[.?!])\\s+', text.strip())\n",
        "    text_chunks.extend([c for c in chunks if len(c) > 30])\n",
        "\n",
        "doc_embeddings = model.encode(text_chunks, convert_to_numpy=True)\n"
      ],
      "metadata": {
        "id": "NEpRVY71zFIk"
      },
      "execution_count": 7,
      "outputs": []
    },
    {
      "cell_type": "code",
      "source": [
        "# Memory stores previous interactions\n",
        "chat_history = []\n",
        "\n",
        "def chat_with_pdf(user_input):\n",
        "    # Embed the user query\n",
        "    query_embedding = model.encode([user_input], convert_to_numpy=True)\n",
        "\n",
        "    # Retrieve top 3 relevant document chunks\n",
        "    similarities = cosine_similarity(query_embedding, doc_embeddings)[0]\n",
        "    top_indices = similarities.argsort()[-3:][::-1]\n",
        "    retrieved_context = \"\\n\\n\".join([text_chunks[i] for i in top_indices])\n",
        "\n",
        "    # Build conversation prompt from memory + new input\n",
        "    messages = [{\"role\": \"system\", \"content\": \"You're a helpful assistant answering questions about a PDF.\"}]\n",
        "    messages.extend(chat_history)\n",
        "    messages.append({\n",
        "        \"role\": \"user\",\n",
        "        \"content\": f\"Answer this question using the context: '''{retrieved_context}'''\\n\\n{user_input}\"\n",
        "    })\n",
        "\n",
        "    # Generate LLM response\n",
        "    response = client.chat.completions.create(\n",
        "        model=\"llama3-8b-8192\",\n",
        "        messages=messages\n",
        "    )\n",
        "\n",
        "    reply = response.choices[0].message.content\n",
        "    chat_history.append({\"role\": \"user\", \"content\": user_input})\n",
        "    chat_history.append({\"role\": \"assistant\", \"content\": reply})\n",
        "\n",
        "    return reply\n"
      ],
      "metadata": {
        "id": "40oFThKO1A9R"
      },
      "execution_count": 8,
      "outputs": []
    },
    {
      "cell_type": "code",
      "source": [
        "interface = gr.Interface(\n",
        "    fn=chat_with_pdf,\n",
        "    inputs=gr.Textbox(placeholder=\"Ask me anything about the PDF...\"),\n",
        "    outputs=\"text\",\n",
        "    title=\"📚 PDF Chatbot with Memory (powered by Groq)\"\n",
        ")\n",
        "\n",
        "interface.launch()\n"
      ],
      "metadata": {
        "colab": {
          "base_uri": "https://localhost:8080/",
          "height": 650
        },
        "id": "q227aGqN1IPN",
        "outputId": "8c0ae24a-2ecc-4d95-8f7b-66cfe7e7cd68"
      },
      "execution_count": 9,
      "outputs": [
        {
          "output_type": "stream",
          "name": "stdout",
          "text": [
            "It looks like you are running Gradio on a hosted a Jupyter notebook. For the Gradio app to work, sharing must be enabled. Automatically setting `share=True` (you can turn this off by setting `share=False` in `launch()` explicitly).\n",
            "\n",
            "Colab notebook detected. To show errors in colab notebook, set debug=True in launch()\n",
            "* Running on public URL: https://6174b8d03f4f5058fa.gradio.live\n",
            "\n",
            "This share link expires in 1 week. For free permanent hosting and GPU upgrades, run `gradio deploy` from the terminal in the working directory to deploy to Hugging Face Spaces (https://huggingface.co/spaces)\n"
          ]
        },
        {
          "output_type": "display_data",
          "data": {
            "text/plain": [
              "<IPython.core.display.HTML object>"
            ],
            "text/html": [
              "<div><iframe src=\"https://6174b8d03f4f5058fa.gradio.live\" width=\"100%\" height=\"500\" allow=\"autoplay; camera; microphone; clipboard-read; clipboard-write;\" frameborder=\"0\" allowfullscreen></iframe></div>"
            ]
          },
          "metadata": {}
        },
        {
          "output_type": "execute_result",
          "data": {
            "text/plain": []
          },
          "metadata": {},
          "execution_count": 9
        }
      ]
    }
  ]
}